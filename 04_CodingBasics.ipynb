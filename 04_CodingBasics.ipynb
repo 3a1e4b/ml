{
  "nbformat": 4,
  "nbformat_minor": 0,
  "metadata": {
    "colab": {
      "provenance": [],
      "toc_visible": true,
      "include_colab_link": true
    },
    "kernelspec": {
      "name": "python3",
      "display_name": "Python 3"
    },
    "language_info": {
      "name": "python"
    }
  },
  "cells": [
    {
      "cell_type": "markdown",
      "metadata": {
        "id": "view-in-github",
        "colab_type": "text"
      },
      "source": [
        "<a href=\"https://colab.research.google.com/github/3a1e4b/ml/blob/main/04_CodingBasics.ipynb\" target=\"_parent\"><img src=\"https://colab.research.google.com/assets/colab-badge.svg\" alt=\"Open In Colab\"/></a>"
      ]
    },
    {
      "cell_type": "markdown",
      "metadata": {
        "id": "ETEvPb91zaZj"
      },
      "source": [
        "## Основы программирования"
      ]
    },
    {
      "cell_type": "markdown",
      "source": [
        "### Воспользуемся калькулятором"
      ],
      "metadata": {
        "id": "fbQND1CkPWg-"
      }
    },
    {
      "cell_type": "code",
      "metadata": {
        "colab": {
          "base_uri": "https://localhost:8080/"
        },
        "id": "eRU346jmiLOZ",
        "outputId": "77616924-8058-4bd6-d1e7-d984538fb28e"
      },
      "source": [
        "# Питон можно использовать как калькулятор: операция вычитания\n",
        "print(4 - 2)"
      ],
      "execution_count": null,
      "outputs": [
        {
          "output_type": "stream",
          "name": "stdout",
          "text": [
            "2\n"
          ]
        }
      ]
    },
    {
      "cell_type": "code",
      "metadata": {
        "colab": {
          "base_uri": "https://localhost:8080/"
        },
        "id": "wzocFKotiWY7",
        "outputId": "273e8c07-610a-443c-ee27-0d9512c2f10c"
      },
      "source": [
        "# также доступно умножение\n",
        "print(3 * 5)"
      ],
      "execution_count": null,
      "outputs": [
        {
          "output_type": "stream",
          "name": "stdout",
          "text": [
            "15\n"
          ]
        }
      ]
    },
    {
      "cell_type": "code",
      "metadata": {
        "colab": {
          "base_uri": "https://localhost:8080/"
        },
        "id": "-5FVtPwXix8r",
        "outputId": "1ee08fad-0427-4cf7-e27c-e7abfee6144c"
      },
      "source": [
        "# деление\n",
        "print(15 / 3)"
      ],
      "execution_count": null,
      "outputs": [
        {
          "output_type": "stream",
          "name": "stdout",
          "text": [
            "5.0\n"
          ]
        }
      ]
    },
    {
      "cell_type": "code",
      "metadata": {
        "colab": {
          "base_uri": "https://localhost:8080/"
        },
        "id": "9Xli2V_Ni1-g",
        "outputId": "73032241-ad8e-4d04-cea0-75f5a52f2c07"
      },
      "source": [
        "# и возведение в степень\n",
        "print(2 ** 3)"
      ],
      "execution_count": null,
      "outputs": [
        {
          "output_type": "stream",
          "name": "stdout",
          "text": [
            "8\n"
          ]
        }
      ]
    },
    {
      "cell_type": "markdown",
      "metadata": {
        "id": "G5HG9Vq5zrZy"
      },
      "source": [
        "### Сравним значения"
      ]
    },
    {
      "cell_type": "code",
      "metadata": {
        "id": "QGtmFS3EjAKi",
        "colab": {
          "base_uri": "https://localhost:8080/"
        },
        "outputId": "c47b3989-7778-4645-8fb5-b484b1ac15a5"
      },
      "source": [
        "# верное сравнение\n",
        "print(4 > 2)"
      ],
      "execution_count": null,
      "outputs": [
        {
          "output_type": "stream",
          "name": "stdout",
          "text": [
            "True\n"
          ]
        }
      ]
    },
    {
      "cell_type": "code",
      "metadata": {
        "colab": {
          "base_uri": "https://localhost:8080/"
        },
        "id": "h4TQmBtsz6uV",
        "outputId": "5526e470-feaa-4797-d238-e91695753c1c"
      },
      "source": [
        "# неверное сравнение\n",
        "print(4 < 2)"
      ],
      "execution_count": null,
      "outputs": [
        {
          "output_type": "stream",
          "name": "stdout",
          "text": [
            "False\n"
          ]
        }
      ]
    },
    {
      "cell_type": "code",
      "metadata": {
        "colab": {
          "base_uri": "https://localhost:8080/"
        },
        "id": "GYMr68OngM7T",
        "outputId": "b81a9823-56c4-4412-aa38-f62d6c49d878"
      },
      "source": [
        "# сравнение \"больше или равно\"\n",
        "print(4 >= 4)"
      ],
      "execution_count": null,
      "outputs": [
        {
          "output_type": "stream",
          "name": "stdout",
          "text": [
            "True\n"
          ]
        }
      ]
    },
    {
      "cell_type": "code",
      "metadata": {
        "colab": {
          "base_uri": "https://localhost:8080/"
        },
        "id": "6JcIPj_hgYSE",
        "outputId": "759c4e74-6f77-4ac3-c699-5da519676ca8"
      },
      "source": [
        "# и \"меньше или равно\"\n",
        "print(2 <= 0)"
      ],
      "execution_count": null,
      "outputs": [
        {
          "output_type": "stream",
          "name": "stdout",
          "text": [
            "False\n"
          ]
        }
      ]
    },
    {
      "cell_type": "markdown",
      "metadata": {
        "id": "5hLT0TTj0BFi"
      },
      "source": [
        "### Сохраним информацию"
      ]
    },
    {
      "cell_type": "code",
      "metadata": {
        "colab": {
          "base_uri": "https://localhost:8080/"
        },
        "id": "ekglucF71YXj",
        "outputId": "22347a53-fd73-40b1-a803-5ff4cc14cad3"
      },
      "source": [
        "# переменной x присвоим значение 5\n",
        "x = 5\n",
        "\n",
        "# теперь мы можем использовать переменную вместо числа\n",
        "print(x * 2)"
      ],
      "execution_count": null,
      "outputs": [
        {
          "output_type": "stream",
          "name": "stdout",
          "text": [
            "10\n"
          ]
        }
      ]
    },
    {
      "cell_type": "code",
      "metadata": {
        "id": "Cgu6qJkP1eVj",
        "colab": {
          "base_uri": "https://localhost:8080/"
        },
        "outputId": "1e6207e6-194c-449f-d9e6-ad92c1eeacda"
      },
      "source": [
        "# также в переменную можно записывать строки (текст)\n",
        "y = 'Питон'\n",
        "\n",
        "# выведем строку\n",
        "print(y)"
      ],
      "execution_count": null,
      "outputs": [
        {
          "output_type": "stream",
          "name": "stdout",
          "text": [
            "Питон\n"
          ]
        }
      ]
    },
    {
      "cell_type": "code",
      "metadata": {
        "colab": {
          "base_uri": "https://localhost:8080/"
        },
        "id": "t1iVtJup1t5l",
        "outputId": "e3e871c9-b2c5-47a1-da0d-a77880e92699"
      },
      "source": [
        "# Питон умеет считать количество символов в строке. Функция len()\n",
        "print(len(y))"
      ],
      "execution_count": null,
      "outputs": [
        {
          "output_type": "stream",
          "name": "stdout",
          "text": [
            "5\n"
          ]
        }
      ]
    },
    {
      "cell_type": "code",
      "metadata": {
        "colab": {
          "base_uri": "https://localhost:8080/"
        },
        "id": "l2yJrA6D1--n",
        "outputId": "b88f1105-f049-4e86-a51f-746bd4a23106"
      },
      "source": [
        "# выведем первую букву в слове \"Питон\" по ее индексу\n",
        "print(y[0])"
      ],
      "execution_count": null,
      "outputs": [
        {
          "output_type": "stream",
          "name": "stdout",
          "text": [
            "П\n"
          ]
        }
      ]
    },
    {
      "cell_type": "markdown",
      "metadata": {
        "id": "xUUpHZUWhWoC"
      },
      "source": [
        "### Присваивание и равенство"
      ]
    },
    {
      "cell_type": "code",
      "metadata": {
        "colab": {
          "base_uri": "https://localhost:8080/"
        },
        "id": "rRJw-WDQhWDo",
        "outputId": "65412c50-ea0d-48d1-b243-3ee10b544332"
      },
      "source": [
        "# одиночный знак равно \"=\" присваивает значение переменной\n",
        "z = 7\n",
        "print(z)"
      ],
      "execution_count": null,
      "outputs": [
        {
          "output_type": "stream",
          "name": "stdout",
          "text": [
            "7\n"
          ]
        }
      ]
    },
    {
      "cell_type": "code",
      "metadata": {
        "colab": {
          "base_uri": "https://localhost:8080/"
        },
        "id": "nPyztgMjh7hJ",
        "outputId": "530cd2be-2960-4e4f-c3c9-b4b767c3c5c6"
      },
      "source": [
        "# двойной знак равно \"==\" означает равенство\n",
        "# по сути, мы просим Питон сравнить, верно ли равенство или нет\n",
        "print(7 == 7)"
      ],
      "execution_count": null,
      "outputs": [
        {
          "output_type": "stream",
          "name": "stdout",
          "text": [
            "True\n"
          ]
        }
      ]
    },
    {
      "cell_type": "code",
      "metadata": {
        "colab": {
          "base_uri": "https://localhost:8080/"
        },
        "id": "0Pxf1dufiMef",
        "outputId": "e0851dfd-7124-4978-c9ea-cfb2c4ecdbcf"
      },
      "source": [
        "# тогда как\n",
        "print(5 == 7)"
      ],
      "execution_count": null,
      "outputs": [
        {
          "output_type": "stream",
          "name": "stdout",
          "text": [
            "False\n"
          ]
        }
      ]
    },
    {
      "cell_type": "markdown",
      "metadata": {
        "id": "UAzRKnuC6v4t"
      },
      "source": [
        "### Упражнения"
      ]
    },
    {
      "cell_type": "markdown",
      "source": [
        "**Задание 1**. Используя только одну команду `print()`, сложите числа 4 и 5, вычтите 3 и выведите результат."
      ],
      "metadata": {
        "id": "vy9glv1BPN_h"
      }
    },
    {
      "cell_type": "code",
      "metadata": {
        "id": "YMTG20GA6zVx"
      },
      "source": [],
      "execution_count": null,
      "outputs": []
    },
    {
      "cell_type": "markdown",
      "source": [
        "**Задание 2**. Верно ли, что число 18 меньше 27? Проверьте это с помощью Питона и выведите результат."
      ],
      "metadata": {
        "id": "DeLujQ7dPeUT"
      }
    },
    {
      "cell_type": "code",
      "metadata": {
        "id": "gOeFeFE47Q6F"
      },
      "source": [],
      "execution_count": null,
      "outputs": []
    },
    {
      "cell_type": "markdown",
      "source": [
        "**Задание 3**. Верно ли, что -2 меньше либо равно 0?"
      ],
      "metadata": {
        "id": "Zzyfg9F5QVD6"
      }
    },
    {
      "cell_type": "code",
      "metadata": {
        "id": "DE8WipDmgqWp"
      },
      "source": [],
      "execution_count": null,
      "outputs": []
    },
    {
      "cell_type": "markdown",
      "source": [
        "**Задание 4**. Создайте переменную `w` и запишите в нее значение 33. Используя переменную `w`, разделите 33 на 11 и выведите результат."
      ],
      "metadata": {
        "id": "8k9Eyb6gQecZ"
      }
    },
    {
      "cell_type": "code",
      "metadata": {
        "id": "70bI2aon8aPS"
      },
      "source": [],
      "execution_count": null,
      "outputs": []
    },
    {
      "cell_type": "markdown",
      "source": [
        "**Задание 5**. Запишите в переменную `v` следующую строку: \"Я уже программирую на Питоне\"."
      ],
      "metadata": {
        "id": "Ennt_AiaQstd"
      }
    },
    {
      "cell_type": "code",
      "metadata": {
        "id": "kKaPc1Xg7j-a"
      },
      "source": [],
      "execution_count": null,
      "outputs": []
    },
    {
      "cell_type": "markdown",
      "source": [
        "**Задание 6**. Сколько символов в строке, которую вы записали в переменную `v`?"
      ],
      "metadata": {
        "id": "_TPLY2iwQ3fH"
      }
    },
    {
      "cell_type": "code",
      "metadata": {
        "id": "lOfPQYHN9RAv"
      },
      "source": [],
      "execution_count": null,
      "outputs": []
    },
    {
      "cell_type": "markdown",
      "source": [
        "**Задание 7**. Снова возьмите строку из задания 5. Используя индекс, выведите букву \"ж\".\n",
        "\n",
        "Подсказка: помните, что индекс начинается с нуля и пробел - это тоже символ."
      ],
      "metadata": {
        "id": "5iMybCUDQ-wN"
      }
    },
    {
      "cell_type": "code",
      "metadata": {
        "id": "6hbNJkoa9cWH"
      },
      "source": [],
      "execution_count": null,
      "outputs": []
    },
    {
      "cell_type": "markdown",
      "source": [
        "**Задание 8**. Верно ли, что 5 равно 10?"
      ],
      "metadata": {
        "id": "xlJXjTLgRYDa"
      }
    },
    {
      "cell_type": "code",
      "metadata": {
        "id": "tL6Chbqr93Re"
      },
      "source": [],
      "execution_count": null,
      "outputs": []
    },
    {
      "cell_type": "markdown",
      "source": [
        "### Ответы на вопросы"
      ],
      "metadata": {
        "id": "VcXEuzqO7RZ3"
      }
    },
    {
      "cell_type": "markdown",
      "source": [
        "**Вопрос**. Чем отличается оператор равенства `==` от оператора тождественности `is`?"
      ],
      "metadata": {
        "id": "P37BLd8q7XJt"
      }
    },
    {
      "cell_type": "code",
      "source": [
        "# создадим список из трех чисел и поместим его в переменную a\n",
        "# (списки рассматриваются на следующем занятии)\n",
        "a = [1, 2, 3]\n",
        "\n",
        "# передадим этот список функции list(),\n",
        "# которая создаст новый объект(!) этого списка\n",
        "b = list(a)\n",
        "\n",
        "# значения списков равны,\n",
        "print(a == b)\n",
        "# но эти списки находятся в разных объектах в памяти\n",
        "print(a is b)"
      ],
      "metadata": {
        "colab": {
          "base_uri": "https://localhost:8080/"
        },
        "id": "RaifDNTY7TIV",
        "outputId": "99d8563b-08f3-4024-d4dd-39b46e62a603"
      },
      "execution_count": null,
      "outputs": [
        {
          "output_type": "stream",
          "name": "stdout",
          "text": [
            "True\n",
            "False\n"
          ]
        }
      ]
    },
    {
      "cell_type": "code",
      "source": [],
      "metadata": {
        "id": "38WPhKtk7vIq"
      },
      "execution_count": null,
      "outputs": []
    }
  ]
}